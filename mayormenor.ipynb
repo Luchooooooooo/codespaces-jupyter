{
 "cells": [
  {
   "cell_type": "code",
   "execution_count": 1,
   "metadata": {},
   "outputs": [
    {
     "name": "stdout",
     "output_type": "stream",
     "text": [
      "El primer numero es mayor\n"
     ]
    }
   ],
   "source": [
    "numero1= float(input(\"escribe un numero\"))\n",
    "numero2= float(input(\"escribe otro numero\"))\n",
    "if numero1>numero2:\n",
    "    print(\"El primer numero es mayor\")\n",
    "else:\n",
    "    print(\"El segundo numero es mayor\")"
   ]
  }
 ],
 "metadata": {
  "kernelspec": {
   "display_name": "Python 3",
   "language": "python",
   "name": "python3"
  },
  "language_info": {
   "codemirror_mode": {
    "name": "ipython",
    "version": 3
   },
   "file_extension": ".py",
   "mimetype": "text/x-python",
   "name": "python",
   "nbconvert_exporter": "python",
   "pygments_lexer": "ipython3",
   "version": "3.10.13"
  }
 },
 "nbformat": 4,
 "nbformat_minor": 2
}
